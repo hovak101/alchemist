{
 "cells": [
  {
   "cell_type": "code",
   "execution_count": 25,
   "id": "701c7ba7",
   "metadata": {},
   "outputs": [],
   "source": [
    "import yfinance as yf"
   ]
  },
  {
   "cell_type": "code",
   "execution_count": 26,
   "id": "83ecdbda",
   "metadata": {},
   "outputs": [
    {
     "name": "stderr",
     "output_type": "stream",
     "text": [
      "C:\\Users\\hovak\\AppData\\Local\\Temp\\ipykernel_5972\\745447563.py:1: FutureWarning: YF.download() has changed argument auto_adjust default to True\n",
      "  data = yf.download(\"AMZN, HD, COST, BURL, ULTA, WMT, BBY, TGT\",\n",
      "[*********************100%***********************]  8 of 8 completed\n"
     ]
    }
   ],
   "source": [
    "data = yf.download(\"AMZN, HD, COST, BURL, ULTA, WMT, BBY, TGT\",\n",
    "                    start=\"2020-01-01\",\n",
    "                    end=\"2025-08-25\") "
   ]
  },
  {
   "cell_type": "code",
   "execution_count": null,
   "id": "b7d36d5b",
   "metadata": {},
   "outputs": [
    {
     "data": {
      "text/html": [
       "<div>\n",
       "<style scoped>\n",
       "    .dataframe tbody tr th:only-of-type {\n",
       "        vertical-align: middle;\n",
       "    }\n",
       "\n",
       "    .dataframe tbody tr th {\n",
       "        vertical-align: top;\n",
       "    }\n",
       "\n",
       "    .dataframe thead th {\n",
       "        text-align: right;\n",
       "    }\n",
       "</style>\n",
       "<table border=\"1\" class=\"dataframe\">\n",
       "  <thead>\n",
       "    <tr style=\"text-align: right;\">\n",
       "      <th>Price</th>\n",
       "      <th>Date</th>\n",
       "      <th>Ticker</th>\n",
       "      <th>Open</th>\n",
       "      <th>Volume</th>\n",
       "      <th>Month</th>\n",
       "    </tr>\n",
       "  </thead>\n",
       "  <tbody>\n",
       "    <tr>\n",
       "      <th>11339</th>\n",
       "      <td>2025-08-22</td>\n",
       "      <td>COST</td>\n",
       "      <td>971.539978</td>\n",
       "      <td>3136000</td>\n",
       "      <td>8</td>\n",
       "    </tr>\n",
       "    <tr>\n",
       "      <th>11340</th>\n",
       "      <td>2025-08-22</td>\n",
       "      <td>HD</td>\n",
       "      <td>400.869995</td>\n",
       "      <td>5284700</td>\n",
       "      <td>8</td>\n",
       "    </tr>\n",
       "    <tr>\n",
       "      <th>11341</th>\n",
       "      <td>2025-08-22</td>\n",
       "      <td>TGT</td>\n",
       "      <td>97.580002</td>\n",
       "      <td>13663600</td>\n",
       "      <td>8</td>\n",
       "    </tr>\n",
       "    <tr>\n",
       "      <th>11342</th>\n",
       "      <td>2025-08-22</td>\n",
       "      <td>ULTA</td>\n",
       "      <td>527.830017</td>\n",
       "      <td>624300</td>\n",
       "      <td>8</td>\n",
       "    </tr>\n",
       "    <tr>\n",
       "      <th>11343</th>\n",
       "      <td>2025-08-22</td>\n",
       "      <td>WMT</td>\n",
       "      <td>98.070000</td>\n",
       "      <td>32695200</td>\n",
       "      <td>8</td>\n",
       "    </tr>\n",
       "  </tbody>\n",
       "</table>\n",
       "</div>"
      ],
      "text/plain": [
       "Price       Date Ticker        Open    Volume  Month\n",
       "11339 2025-08-22   COST  971.539978   3136000      8\n",
       "11340 2025-08-22     HD  400.869995   5284700      8\n",
       "11341 2025-08-22    TGT   97.580002  13663600      8\n",
       "11342 2025-08-22   ULTA  527.830017    624300      8\n",
       "11343 2025-08-22    WMT   98.070000  32695200      8"
      ]
     },
     "execution_count": 27,
     "metadata": {},
     "output_type": "execute_result"
    }
   ],
   "source": [
    "# data.head()\n",
    "# drop all data except the opening and volume columns.\n",
    "data = data[['Open', 'Volume']].copy()\n",
    "# data.head()\n",
    "\n",
    "# refactor input so that the two columns are just Open and Volume, with the specific \n",
    "# ticker name gone; that is, all the tickers should be aggregatted under the \n",
    "# Open and Volume columns.\n",
    "data = data.stack(level='Ticker', future_stack=True).reset_index()\n",
    "\n",
    "# add the month as a number from 1 to 12 as a column to the dataframe\n",
    "data['Month'] = data['Date'].dt.month\n",
    "\n",
    "# TODO: using the data and the yfinance library, add the federal reserve interest\n",
    "# as a column\n",
    "\n",
    "\n",
    "data.tail()"
   ]
  }
 ],
 "metadata": {
  "kernelspec": {
   "display_name": "alchemist-venv",
   "language": "python",
   "name": "python3"
  },
  "language_info": {
   "codemirror_mode": {
    "name": "ipython",
    "version": 3
   },
   "file_extension": ".py",
   "mimetype": "text/x-python",
   "name": "python",
   "nbconvert_exporter": "python",
   "pygments_lexer": "ipython3",
   "version": "3.13.3"
  }
 },
 "nbformat": 4,
 "nbformat_minor": 5
}
