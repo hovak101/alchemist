{
 "cells": [
  {
   "cell_type": "code",
   "execution_count": 36,
   "id": "701c7ba7",
   "metadata": {},
   "outputs": [],
   "source": [
    "import yfinance as yf\n",
    "import pandas_datareader as pdr\n",
    "\n",
    "start=\"2020-01-01\"\n",
    "end=\"2025-08-25\""
   ]
  },
  {
   "cell_type": "code",
   "execution_count": 37,
   "id": "83ecdbda",
   "metadata": {},
   "outputs": [
    {
     "name": "stderr",
     "output_type": "stream",
     "text": [
      "/tmp/ipykernel_11073/1703306638.py:1: FutureWarning: YF.download() has changed argument auto_adjust default to True\n",
      "  data = yf.download(\"AMZN, HD, COST, BURL, ULTA, WMT, BBY, TGT\",\n",
      "[*********************100%***********************]  8 of 8 completed\n"
     ]
    }
   ],
   "source": [
    "data = yf.download(\"AMZN, HD, COST, BURL, ULTA, WMT, BBY, TGT\",\n",
    "                    start=start,\n",
    "                    end=end) "
   ]
  },
  {
   "cell_type": "code",
   "execution_count": 38,
   "id": "b7d36d5b",
   "metadata": {},
   "outputs": [
    {
     "name": "stdout",
     "output_type": "stream",
     "text": [
      "\n",
      "Data shape after merge: (11344, 6)\n",
      "Columns after merge: ['Date', 'Ticker', 'Open', 'Volume', 'Month', 'GS10']\n",
      "<class 'pandas.core.frame.DataFrame'>\n",
      "RangeIndex: 11344 entries, 0 to 11343\n",
      "Data columns (total 6 columns):\n",
      " #   Column  Non-Null Count  Dtype         \n",
      "---  ------  --------------  -----         \n",
      " 0   Date    11344 non-null  datetime64[ns]\n",
      " 1   Ticker  11344 non-null  object        \n",
      " 2   Open    11344 non-null  float64       \n",
      " 3   Volume  11344 non-null  int64         \n",
      " 4   Month   11344 non-null  int32         \n",
      " 5   GS10    11216 non-null  float64       \n",
      "dtypes: datetime64[ns](1), float64(2), int32(1), int64(1), object(1)\n",
      "memory usage: 487.6+ KB\n"
     ]
    },
    {
     "data": {
      "text/plain": [
       "Date        0\n",
       "Ticker      0\n",
       "Open        0\n",
       "Volume      0\n",
       "Month       0\n",
       "GS10      128\n",
       "dtype: int64"
      ]
     },
     "execution_count": 38,
     "metadata": {},
     "output_type": "execute_result"
    }
   ],
   "source": [
    "# data.head()\n",
    "# drop all data except the opening and volume columns.\n",
    "data = data[['Open', 'Volume']].copy()\n",
    "# data.head()\n",
    "\n",
    "# refactor input so that the two columns are just Open and Volume, with the specific \n",
    "# ticker name gone; that is, all the tickers should be aggregatted under the \n",
    "# Open and Volume columns.\n",
    "data = data.stack(level='Ticker', future_stack=True).reset_index()\n",
    "\n",
    "# add the month as a number from 1 to 12 as a column to the dataframe\n",
    "data['Month'] = data['Date'].dt.month\n",
    "\n",
    "treasury_data = pdr.get_data_fred('GS10', start=start, end=end)\n",
    "\n",
    "# Reset index to make DATE a column for merging\n",
    "treasury_data = treasury_data.reset_index()\n",
    "\n",
    "# Treasury data is monthly, stock data is daily\n",
    "# We need to create a year-month column for both datasets to merge on\n",
    "treasury_data['Year_Month'] = treasury_data['DATE'].dt.to_period('M')\n",
    "data['Year_Month'] = data['Date'].dt.to_period('M')\n",
    "\n",
    "# Merge treasury data with stock data on Year_Month\n",
    "# Using left join to keep all stock data rows\n",
    "data = data.merge(treasury_data[['Year_Month', 'GS10']], on='Year_Month', how='left')\n",
    "\n",
    "# Drop the temporary Year_Month column\n",
    "data = data.drop('Year_Month', axis=1)\n",
    "\n",
    "print(f\"\\nData shape after merge: {data.shape}\")\n",
    "print(\"Columns after merge:\", data.columns.tolist())\n",
    "data.info()\n",
    "data.isnull().sum()"
   ]
  },
  {
   "cell_type": "code",
   "execution_count": 39,
   "id": "b2d82593",
   "metadata": {},
   "outputs": [
    {
     "name": "stdout",
     "output_type": "stream",
     "text": [
      "Unique months with NaN values in GS10:\n",
      "<PeriodArray>\n",
      "['2025-08']\n",
      "Length: 1, dtype: period[M]\n"
     ]
    }
   ],
   "source": [
    "# Isolate the rows where GS10 is null\n",
    "nan_rows = data[data['GS10'].isnull()]\n",
    "\n",
    "# Print the unique dates or months for those rows\n",
    "print(\"Unique months with NaN values in GS10:\")\n",
    "print(nan_rows['Date'].dt.to_period('M').unique())"
   ]
  }
 ],
 "metadata": {
  "kernelspec": {
   "display_name": "alchemist-venv",
   "language": "python",
   "name": "python3"
  },
  "language_info": {
   "codemirror_mode": {
    "name": "ipython",
    "version": 3
   },
   "file_extension": ".py",
   "mimetype": "text/x-python",
   "name": "python",
   "nbconvert_exporter": "python",
   "pygments_lexer": "ipython3",
   "version": "3.12.3"
  }
 },
 "nbformat": 4,
 "nbformat_minor": 5
}
